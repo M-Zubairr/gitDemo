{
 "cells": [
  {
   "cell_type": "code",
   "execution_count": 1,
   "id": "5915f098",
   "metadata": {},
   "outputs": [
    {
     "name": "stdout",
     "output_type": "stream",
     "text": [
      "Hello WOrld\n"
     ]
    }
   ],
   "source": [
    "print(\"Hello WOrld\");"
   ]
  },
  {
   "cell_type": "code",
   "execution_count": 2,
   "id": "546e9df4",
   "metadata": {},
   "outputs": [
    {
     "name": "stdout",
     "output_type": "stream",
     "text": [
      "2\n"
     ]
    }
   ],
   "source": [
    "print(2);"
   ]
  },
  {
   "cell_type": "code",
   "execution_count": 3,
   "id": "852d43b7",
   "metadata": {},
   "outputs": [
    {
     "name": "stdout",
     "output_type": "stream",
     "text": [
      "Karachi\n"
     ]
    }
   ],
   "source": [
    "nameofcountry = \"Karachi\";\n",
    "print(nameofcountry);"
   ]
  },
  {
   "cell_type": "code",
   "execution_count": 4,
   "id": "8f3eefa1",
   "metadata": {},
   "outputs": [
    {
     "name": "stdout",
     "output_type": "stream",
     "text": [
      "Karachi\n"
     ]
    }
   ],
   "source": [
    "name_of_country = \"Karachi\";\n",
    "print(name_of_country);"
   ]
  },
  {
   "cell_type": "code",
   "execution_count": 5,
   "id": "b4f98916",
   "metadata": {},
   "outputs": [
    {
     "name": "stdout",
     "output_type": "stream",
     "text": [
      "175\n"
     ]
    }
   ],
   "source": [
    "weight = 150;\n",
    "weight = weight + 25;\n",
    "print(weight);"
   ]
  },
  {
   "cell_type": "code",
   "execution_count": 6,
   "id": "ee36c340",
   "metadata": {},
   "outputs": [
    {
     "name": "stdout",
     "output_type": "stream",
     "text": [
      "165\n"
     ]
    }
   ],
   "source": [
    "weight = 150;\n",
    "print(weight + 15);\n"
   ]
  },
  {
   "cell_type": "code",
   "execution_count": 7,
   "id": "02400924",
   "metadata": {},
   "outputs": [
    {
     "name": "stdout",
     "output_type": "stream",
     "text": [
      "175\n"
     ]
    }
   ],
   "source": [
    "weight = 150;\n",
    "weight += 25;\n",
    "print(weight);"
   ]
  },
  {
   "cell_type": "code",
   "execution_count": 8,
   "id": "acc8fec8",
   "metadata": {},
   "outputs": [
    {
     "name": "stdout",
     "output_type": "stream",
     "text": [
      "125\n"
     ]
    }
   ],
   "source": [
    "weight = 150;\n",
    "weight -= 25;\n",
    "print(weight);"
   ]
  },
  {
   "cell_type": "code",
   "execution_count": 9,
   "id": "cfe182ab",
   "metadata": {},
   "outputs": [
    {
     "name": "stdout",
     "output_type": "stream",
     "text": [
      "3750\n"
     ]
    }
   ],
   "source": [
    "weight = 150;\n",
    "weight *= 25;\n",
    "print(weight);"
   ]
  },
  {
   "cell_type": "code",
   "execution_count": 10,
   "id": "c398c9a6",
   "metadata": {},
   "outputs": [],
   "source": [
    "#Error because we concatenate string into number\n",
    "# age = \"21\";\n",
    "# age += 2;\n",
    "# print(age);"
   ]
  },
  {
   "cell_type": "code",
   "execution_count": 11,
   "id": "b39123f3",
   "metadata": {},
   "outputs": [
    {
     "name": "stdout",
     "output_type": "stream",
     "text": [
      "HelloWorld\n"
     ]
    }
   ],
   "source": [
    "greeting = \"Hello\";\n",
    "adresses = \"World\";\n",
    "whole_greeting = greeting + adresses;\n",
    "print(whole_greeting);"
   ]
  },
  {
   "cell_type": "code",
   "execution_count": 12,
   "id": "faaa9b71",
   "metadata": {},
   "outputs": [
    {
     "name": "stdout",
     "output_type": "stream",
     "text": [
      "The sum of 2 plus 2 is 4\n"
     ]
    }
   ],
   "source": [
    "print(\"The sum of 2 plus 2 is \" + \"4\");"
   ]
  },
  {
   "cell_type": "code",
   "execution_count": 13,
   "id": "2c77abd8",
   "metadata": {},
   "outputs": [
    {
     "name": "stdout",
     "output_type": "stream",
     "text": [
      "its not a cat\n"
     ]
    }
   ],
   "source": [
    "species = \"Dog\";\n",
    "if species == \"Cat\":\n",
    "    print(\"Yup,'its a cat'\");\n",
    "else:\n",
    "    print(\"its not a cat\");"
   ]
  },
  {
   "cell_type": "code",
   "execution_count": 14,
   "id": "16d43589",
   "metadata": {},
   "outputs": [
    {
     "name": "stdout",
     "output_type": "stream",
     "text": [
      "Enter the marks: 30\n",
      "You are fail\n"
     ]
    }
   ],
   "source": [
    "marks = int(input(\"Enter the marks: \"));\n",
    "if marks >= 80:\n",
    "    print(\"A+\");\n",
    "elif marks >= 70:\n",
    "    print(\"A\");\n",
    "elif marks >= 60:\n",
    "    print(\"B\");\n",
    "elif marks >= 50:\n",
    "    print(\"C\");\n",
    "else:\n",
    "    print(\"You are fail\");"
   ]
  },
  {
   "cell_type": "code",
   "execution_count": 15,
   "id": "5e331a01",
   "metadata": {},
   "outputs": [
    {
     "name": "stdout",
     "output_type": "stream",
     "text": [
      "<class 'int'>\n"
     ]
    }
   ],
   "source": [
    "a = 50;\n",
    "print(type(a));"
   ]
  },
  {
   "cell_type": "code",
   "execution_count": 16,
   "id": "0f15554b",
   "metadata": {},
   "outputs": [
    {
     "name": "stdout",
     "output_type": "stream",
     "text": [
      "50.0\n"
     ]
    }
   ],
   "source": [
    "a = float(a);\n",
    "print(a);"
   ]
  },
  {
   "cell_type": "code",
   "execution_count": 17,
   "id": "354a0f0b",
   "metadata": {},
   "outputs": [
    {
     "name": "stdout",
     "output_type": "stream",
     "text": [
      "50.0\n"
     ]
    }
   ],
   "source": [
    "a = str(a);\n",
    "print(a);"
   ]
  },
  {
   "cell_type": "code",
   "execution_count": 18,
   "id": "2c1cda60",
   "metadata": {},
   "outputs": [
    {
     "name": "stdout",
     "output_type": "stream",
     "text": [
      "<class 'str'>\n"
     ]
    }
   ],
   "source": [
    "print(type(a));"
   ]
  },
  {
   "cell_type": "code",
   "execution_count": 19,
   "id": "9458fa88",
   "metadata": {},
   "outputs": [
    {
     "data": {
      "text/plain": [
       "'\\nThis is my first comment\\nthis is my second comment\\nthis is my third comment\\n'"
      ]
     },
     "execution_count": 19,
     "metadata": {},
     "output_type": "execute_result"
    }
   ],
   "source": [
    "'''\n",
    "This is my first comment\n",
    "this is my second comment\n",
    "this is my third comment\n",
    "'''\n"
   ]
  },
  {
   "cell_type": "code",
   "execution_count": 20,
   "id": "c94678a6",
   "metadata": {},
   "outputs": [
    {
     "name": "stdout",
     "output_type": "stream",
     "text": [
      "['karachi', 'Mirpurkhas', 'hyderabad', 'Larkana', 2]\n"
     ]
    }
   ],
   "source": [
    "city = [\"karachi\",\"lahore\",\"hyderabad\",\"Larkana\",2];\n",
    "city[1] = \"Mirpurkhas\";\n",
    "print(city);"
   ]
  },
  {
   "cell_type": "code",
   "execution_count": 21,
   "id": "da1be43f",
   "metadata": {},
   "outputs": [
    {
     "ename": "TypeError",
     "evalue": "can only concatenate str (not \"int\") to str",
     "output_type": "error",
     "traceback": [
      "\u001b[1;31m---------------------------------------------------------------------------\u001b[0m",
      "\u001b[1;31mTypeError\u001b[0m                                 Traceback (most recent call last)",
      "\u001b[1;32m~\\AppData\\Local\\Temp/ipykernel_7404/3007353698.py\u001b[0m in \u001b[0;36m<module>\u001b[1;34m\u001b[0m\n\u001b[1;32m----> 1\u001b[1;33m \u001b[0mprint\u001b[0m\u001b[1;33m(\u001b[0m\u001b[1;34m\"Welcome to \"\u001b[0m\u001b[1;33m+\u001b[0m\u001b[0mcity\u001b[0m\u001b[1;33m[\u001b[0m\u001b[1;36m4\u001b[0m\u001b[1;33m]\u001b[0m\u001b[1;33m)\u001b[0m\u001b[1;33m;\u001b[0m\u001b[1;33m\u001b[0m\u001b[1;33m\u001b[0m\u001b[0m\n\u001b[0m",
      "\u001b[1;31mTypeError\u001b[0m: can only concatenate str (not \"int\") to str"
     ]
    }
   ],
   "source": [
    "print(\"Welcome to \"+city[4]);"
   ]
  },
  {
   "cell_type": "code",
   "execution_count": null,
   "id": "fe8c8a94",
   "metadata": {},
   "outputs": [],
   "source": [
    "print(type(city))"
   ]
  },
  {
   "cell_type": "code",
   "execution_count": null,
   "id": "0095c32e",
   "metadata": {
    "scrolled": true
   },
   "outputs": [],
   "source": [
    "print(city)"
   ]
  },
  {
   "cell_type": "code",
   "execution_count": null,
   "id": "564d04e0",
   "metadata": {},
   "outputs": [],
   "source": [
    "city.append(\"kimari\");\n",
    "city"
   ]
  },
  {
   "cell_type": "code",
   "execution_count": null,
   "id": "2db13b8e",
   "metadata": {},
   "outputs": [],
   "source": [
    "print(city);"
   ]
  },
  {
   "cell_type": "code",
   "execution_count": null,
   "id": "38bdd12b",
   "metadata": {},
   "outputs": [],
   "source": [
    "del city[6]"
   ]
  },
  {
   "cell_type": "code",
   "execution_count": null,
   "id": "c9678ee4",
   "metadata": {},
   "outputs": [],
   "source": [
    "print(city);"
   ]
  },
  {
   "cell_type": "code",
   "execution_count": null,
   "id": "0ce01612",
   "metadata": {},
   "outputs": [],
   "source": [
    "city.insert(1,\"thata\");"
   ]
  },
  {
   "cell_type": "code",
   "execution_count": null,
   "id": "6eb75674",
   "metadata": {},
   "outputs": [],
   "source": [
    "print(city);"
   ]
  },
  {
   "cell_type": "code",
   "execution_count": null,
   "id": "b26da1a6",
   "metadata": {},
   "outputs": [],
   "source": [
    "city_1 = city.pop(2);\n",
    "print(city_1);"
   ]
  },
  {
   "cell_type": "code",
   "execution_count": null,
   "id": "dcb03e0c",
   "metadata": {},
   "outputs": [],
   "source": [
    "print(city);"
   ]
  },
  {
   "cell_type": "code",
   "execution_count": null,
   "id": "045be27e",
   "metadata": {},
   "outputs": [],
   "source": [
    "city = city + [\"Islamabad\",\"Istambul\"];\n",
    "print(city);"
   ]
  },
  {
   "cell_type": "code",
   "execution_count": null,
   "id": "764c4e08",
   "metadata": {
    "scrolled": true
   },
   "outputs": [],
   "source": [
    "smaller_list_of_cities = city[-1:-7:-1];\n",
    "print(smaller_list_of_cities);"
   ]
  },
  {
   "cell_type": "code",
   "execution_count": 28,
   "id": "ec675feb",
   "metadata": {},
   "outputs": [
    {
     "data": {
      "text/plain": [
       "['karachi', 'Mirpurkhas', 'hyderabad', 'Larkana', 2]"
      ]
     },
     "execution_count": 28,
     "metadata": {},
     "output_type": "execute_result"
    }
   ],
   "source": [
    "city"
   ]
  },
  {
   "cell_type": "code",
   "execution_count": 58,
   "id": "9ee4cab7",
   "metadata": {},
   "outputs": [
    {
     "data": {
      "text/plain": [
       "['Larkana', 'Mirpurkhas']"
      ]
     },
     "execution_count": 58,
     "metadata": {},
     "output_type": "execute_result"
    }
   ],
   "source": [
    "city[-2:-6:-2]"
   ]
  },
  {
   "cell_type": "code",
   "execution_count": 59,
   "id": "1b94abd9",
   "metadata": {},
   "outputs": [
    {
     "data": {
      "text/plain": [
       "['karachi', 'Mirpurkhas', 'hyderabad', 'Larkana', 2]"
      ]
     },
     "execution_count": 59,
     "metadata": {},
     "output_type": "execute_result"
    }
   ],
   "source": [
    "city"
   ]
  },
  {
   "cell_type": "code",
   "execution_count": 60,
   "id": "cf2bfe59",
   "metadata": {},
   "outputs": [],
   "source": [
    "city.remove(2);"
   ]
  },
  {
   "cell_type": "code",
   "execution_count": 61,
   "id": "c29a7a66",
   "metadata": {},
   "outputs": [
    {
     "data": {
      "text/plain": [
       "['karachi', 'Mirpurkhas', 'hyderabad', 'Larkana']"
      ]
     },
     "execution_count": 61,
     "metadata": {},
     "output_type": "execute_result"
    }
   ],
   "source": [
    "city"
   ]
  },
  {
   "cell_type": "code",
   "execution_count": 62,
   "id": "9d3871aa",
   "metadata": {},
   "outputs": [],
   "source": [
    "name = (\"sami\",\"talha\",\"shariq\",\"shoaib\",\"faraz\");"
   ]
  },
  {
   "cell_type": "code",
   "execution_count": 66,
   "id": "aad09462",
   "metadata": {},
   "outputs": [
    {
     "name": "stdout",
     "output_type": "stream",
     "text": [
      "talha\n"
     ]
    }
   ],
   "source": [
    "print(name[1]);"
   ]
  },
  {
   "cell_type": "code",
   "execution_count": 67,
   "id": "e55a2273",
   "metadata": {},
   "outputs": [
    {
     "name": "stdout",
     "output_type": "stream",
     "text": [
      "faraz\n"
     ]
    }
   ],
   "source": [
    "print(name[4])"
   ]
  },
  {
   "cell_type": "code",
   "execution_count": 68,
   "id": "af62f2ac",
   "metadata": {},
   "outputs": [
    {
     "data": {
      "text/plain": [
       "['karachi', 'Mirpurkhas', 'hyderabad', 'Larkana']"
      ]
     },
     "execution_count": 68,
     "metadata": {},
     "output_type": "execute_result"
    }
   ],
   "source": [
    "city"
   ]
  },
  {
   "cell_type": "code",
   "execution_count": 72,
   "id": "59181d12",
   "metadata": {},
   "outputs": [
    {
     "name": "stdout",
     "output_type": "stream",
     "text": [
      "It's one the cleanest city\n"
     ]
    }
   ],
   "source": [
    "for city_to_check in city:\n",
    "    if city_to_check == \"karachi\":\n",
    "        print(\"It's one the cleanest city\");\n",
    "        break\n",
    "    else:\n",
    "        print(\"It's not a cleanest city\");"
   ]
  },
  {
   "cell_type": "code",
   "execution_count": 74,
   "id": "9244c874",
   "metadata": {},
   "outputs": [
    {
     "name": "stdout",
     "output_type": "stream",
     "text": [
      "0\n",
      "2\n",
      "4\n"
     ]
    }
   ],
   "source": [
    "for i in range(0,6,2):\n",
    "    print(i);"
   ]
  },
  {
   "cell_type": "code",
   "execution_count": null,
   "id": "dedd7d10",
   "metadata": {},
   "outputs": [],
   "source": []
  }
 ],
 "metadata": {
  "kernelspec": {
   "display_name": "Python 3 (ipykernel)",
   "language": "python",
   "name": "python3"
  },
  "language_info": {
   "codemirror_mode": {
    "name": "ipython",
    "version": 3
   },
   "file_extension": ".py",
   "mimetype": "text/x-python",
   "name": "python",
   "nbconvert_exporter": "python",
   "pygments_lexer": "ipython3",
   "version": "3.9.7"
  }
 },
 "nbformat": 4,
 "nbformat_minor": 5
}
